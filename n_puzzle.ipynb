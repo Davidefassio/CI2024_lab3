{
 "cells": [
  {
   "cell_type": "markdown",
   "metadata": {
    "vscode": {
     "languageId": "plaintext"
    }
   },
   "source": [
    "# Lab 03 (n-Puzzle)"
   ]
  },
  {
   "cell_type": "code",
   "execution_count": 189,
   "metadata": {},
   "outputs": [],
   "source": [
    "from random import choice\n",
    "import numpy as np\n",
    "import heapq\n",
    "from time import time"
   ]
  },
  {
   "cell_type": "code",
   "execution_count": 190,
   "metadata": {},
   "outputs": [],
   "source": [
    "class Action:\n",
    "    def __init__(self, pos1: tuple, pos2: tuple) -> None:\n",
    "        self.pos1 = pos1\n",
    "        self.pos2 = pos2"
   ]
  },
  {
   "cell_type": "code",
   "execution_count": 191,
   "metadata": {},
   "outputs": [],
   "source": [
    "def available_actions(state: np.ndarray) -> list[Action]:\n",
    "    x, y = [int(_[0]) for _ in np.where(state == 0)]\n",
    "    actions = list()\n",
    "    if x > 0:\n",
    "        actions.append(Action((x, y), (x - 1, y)))\n",
    "    if x < len(state) - 1:\n",
    "        actions.append(Action((x, y), (x + 1, y)))\n",
    "    if y > 0:\n",
    "        actions.append(Action((x, y), (x, y - 1)))\n",
    "    if y < len(state) - 1:\n",
    "        actions.append(Action((x, y), (x, y + 1)))\n",
    "    return actions\n",
    "\n",
    "\n",
    "\n",
    "def do_action(state: np.ndarray, action: Action) -> np.ndarray:\n",
    "    new_state = state.copy()\n",
    "    new_state[action.pos1], new_state[action.pos2] = new_state[action.pos2], new_state[action.pos1]\n",
    "    return new_state\n",
    "\n",
    "\n",
    "def create_random_problem(puzzle_dim: int, RANDOMIZE_STEPS=100_000) -> np.ndarray:\n",
    "    state = np.array([i for i in range(1, puzzle_dim**2)] + [0]).reshape((puzzle_dim, puzzle_dim))\n",
    "    for _ in range(RANDOMIZE_STEPS):\n",
    "        state = do_action(state, choice(available_actions(state)))\n",
    "    return state\n",
    "\n",
    "\n",
    "def heuristic(state: np.ndarray) -> int:\n",
    "    \"\"\"Calculates the total Manhattan distance for a given puzzle state with a penalty for linear conflict.\"\"\"\n",
    "    n = len(state)\n",
    "    manhattan_dist = 0\n",
    "    linear_conflict_penalty = 0\n",
    "    \n",
    "    for (i, j), tile in np.ndenumerate(state):\n",
    "        if tile == 0:\n",
    "            continue  # Skip the empty tile\n",
    "        \n",
    "        # Compute Manhattan distance        \n",
    "        goal_i, goal_j = divmod(tile - 1, n)\n",
    "        manhattan_dist += abs(i - goal_i) + abs(j - goal_j)\n",
    "        \n",
    "        # Check for linear conflicts in the same row\n",
    "        if i == goal_i:  # Tile is in the correct row\n",
    "            for k in range(j + 1, n):\n",
    "                other_tile = state[i][k]\n",
    "                if other_tile != tile and other_tile != 0:\n",
    "                    other_goal_i = (other_tile - 1) // n\n",
    "                    if other_goal_i == i and tile > other_tile:  # Both tiles are in their goal row, but out of order\n",
    "                        linear_conflict_penalty += 2\n",
    "\n",
    "        # Check for linear conflicts in the same row\n",
    "        if j == goal_j:  # Tile is in the correct col\n",
    "            for k in range(i + 1, n):\n",
    "                other_tile = state[k][j]\n",
    "                if other_tile != tile and other_tile != 0:\n",
    "                    other_goal_j = (other_tile - 1) % n\n",
    "                    if other_goal_j == j and tile > other_tile:  # Both tiles are in their goal col, but out of order\n",
    "                        linear_conflict_penalty += 2\n",
    "\n",
    "    return manhattan_dist + linear_conflict_penalty\n"
   ]
  },
  {
   "cell_type": "markdown",
   "metadata": {},
   "source": [
    "## Search Strategies"
   ]
  },
  {
   "cell_type": "markdown",
   "metadata": {},
   "source": [
    "### Node class"
   ]
  },
  {
   "cell_type": "code",
   "execution_count": 192,
   "metadata": {},
   "outputs": [],
   "source": [
    "class Node:\n",
    "    def __init__(self, position: np.ndarray, g: int, parent: \"Node\") -> None:\n",
    "        self.position = position\n",
    "        self.g = g  # Cost from start to this node\n",
    "        self.h = heuristic(position)  # Heuristic estimate to goal\n",
    "        self.f = self.g + self.h\n",
    "        self.parent = parent  # Parent node for path reconstruction\n",
    "\n",
    "    def __hash__(self) -> int:\n",
    "        return hash(tuple(self.position.reshape(-1)))\n",
    "    \n",
    "    def __eq__(self, value: \"Node\") -> bool:\n",
    "        return np.array_equal(self.position, value.position)\n",
    "    \n",
    "    def __lt__(self, other: \"Node\") -> bool:\n",
    "        return (self.f, self.g) < (other.f, other.g)"
   ]
  },
  {
   "cell_type": "markdown",
   "metadata": {},
   "source": [
    "### A star"
   ]
  },
  {
   "cell_type": "code",
   "execution_count": 193,
   "metadata": {},
   "outputs": [],
   "source": [
    "def a_star(state: np.ndarray) -> list[np.ndarray]:\n",
    "    open_set = []\n",
    "    heapq.heappush(open_set, Node(state, 0, None))\n",
    "    \n",
    "    closed_set = set()\n",
    "\n",
    "    while open_set:\n",
    "        current_node = heapq.heappop(open_set)\n",
    "        \n",
    "        # Goal reached\n",
    "        if current_node.h == 0:\n",
    "            path = []\n",
    "            while current_node:\n",
    "                path.append(current_node.position)\n",
    "                current_node = current_node.parent\n",
    "            return path[::-1]  # Return reversed path from start to goal\n",
    "        \n",
    "        closed_set.add(current_node)\n",
    "        \n",
    "        # Explore neighbors\n",
    "        for a in available_actions(current_node.position):\n",
    "            neighbor_node = Node(do_action(current_node.position, a), current_node.g + 1, current_node)\n",
    "\n",
    "            # Skip if neighbor is already explored\n",
    "            if neighbor_node not in closed_set:\n",
    "                # Add neighbor to priority queue if not visited or found a shorter path\n",
    "                for node in open_set:\n",
    "                    if node == neighbor_node:\n",
    "                        if neighbor_node.g < node.g:\n",
    "                            open_set.remove(node)\n",
    "                            heapq.heapify(open_set)\n",
    "                            heapq.heappush(open_set, neighbor_node)\n",
    "                        break\n",
    "                else:\n",
    "                    heapq.heappush(open_set, neighbor_node)\n",
    "\n",
    "    return []  # No path found"
   ]
  },
  {
   "cell_type": "markdown",
   "metadata": {},
   "source": [
    "### Greedy Best First Search"
   ]
  },
  {
   "cell_type": "code",
   "execution_count": 194,
   "metadata": {},
   "outputs": [],
   "source": [
    "def greedy_best_first(state: np.ndarray) -> list[np.ndarray]:\n",
    "    visited = set()\n",
    "    stack = []\n",
    "    heapq.heappush(stack, Node(state, 0, None))\n",
    "\n",
    "    while stack:\n",
    "        current = heapq.heappop(stack)\n",
    "        visited.add(current)\n",
    "\n",
    "        if current.h == 0:\n",
    "            path = []\n",
    "            while current:\n",
    "                path.append(current.position)\n",
    "                current = current.parent\n",
    "            return path[::-1]  # Return reversed path from start to goal\n",
    "        \n",
    "        for a in available_actions(current.position):\n",
    "            neighbor = Node(do_action(current.position, a), 0, current)\n",
    "            if neighbor not in visited:\n",
    "                heapq.heappush(stack, neighbor)\n",
    "\n",
    "    return None  # No solution found"
   ]
  },
  {
   "cell_type": "markdown",
   "metadata": {},
   "source": [
    "## Solve"
   ]
  },
  {
   "cell_type": "markdown",
   "metadata": {},
   "source": [
    "### Results"
   ]
  },
  {
   "cell_type": "code",
   "execution_count": 195,
   "metadata": {},
   "outputs": [
    {
     "name": "stdout",
     "output_type": "stream",
     "text": [
      "Dimensions: 2x2 -> Steps: 6 (0.000s) (Optimal #steps: 6)\n",
      "Dimensions: 3x3 -> Steps: 36 (0.008s) (Optimal #steps: 26)\n",
      "Dimensions: 4x4 -> Steps: 154 (0.090s)\n",
      "Dimensions: 5x5 -> Steps: 522 (3.359s)\n",
      "Dimensions: 6x6 -> Steps: 1262 (5.391s)\n",
      "Dimensions: 7x7 -> Steps: 4110 (809.732s)\n"
     ]
    }
   ],
   "source": [
    "for PUZZLE_DIM in range(2, 8):\n",
    "    print(f\"Dimensions: {PUZZLE_DIM}x{PUZZLE_DIM} -> \", end=\"\")\n",
    "    prob = create_random_problem(PUZZLE_DIM)\n",
    "    start = time()\n",
    "    sol = greedy_best_first(prob)\n",
    "    end = time()\n",
    "    print(f\"Steps: {len(sol) - 1} ({(end - start):.3f}s)\", end=\"\")\n",
    "    if PUZZLE_DIM < 4:\n",
    "        sol = a_star(prob)\n",
    "        print(f\" (Optimal #steps: {len(sol) - 1})\", end=\"\")\n",
    "    print()"
   ]
  },
  {
   "cell_type": "markdown",
   "metadata": {},
   "source": [
    "### Test yourself!"
   ]
  },
  {
   "cell_type": "code",
   "execution_count": 196,
   "metadata": {},
   "outputs": [
    {
     "name": "stdout",
     "output_type": "stream",
     "text": [
      "Problem:\n",
      "[[8 5 3]\n",
      " [4 0 1]\n",
      " [6 2 7]]\n",
      "Optimal solution!\n",
      "Steps: 24\n",
      "Path:\n",
      "[[[8 5 3]\n",
      "  [4 0 1]\n",
      "  [6 2 7]]\n",
      "\n",
      " [[8 5 3]\n",
      "  [4 2 1]\n",
      "  [6 0 7]]\n",
      "\n",
      " [[8 5 3]\n",
      "  [4 2 1]\n",
      "  [0 6 7]]\n",
      "\n",
      " [[8 5 3]\n",
      "  [0 2 1]\n",
      "  [4 6 7]]\n",
      "\n",
      " [[0 5 3]\n",
      "  [8 2 1]\n",
      "  [4 6 7]]\n",
      "\n",
      " [[5 0 3]\n",
      "  [8 2 1]\n",
      "  [4 6 7]]\n",
      "\n",
      " [[5 2 3]\n",
      "  [8 0 1]\n",
      "  [4 6 7]]\n",
      "\n",
      " [[5 2 3]\n",
      "  [8 1 0]\n",
      "  [4 6 7]]\n",
      "\n",
      " [[5 2 0]\n",
      "  [8 1 3]\n",
      "  [4 6 7]]\n",
      "\n",
      " [[5 0 2]\n",
      "  [8 1 3]\n",
      "  [4 6 7]]\n",
      "\n",
      " [[5 1 2]\n",
      "  [8 0 3]\n",
      "  [4 6 7]]\n",
      "\n",
      " [[5 1 2]\n",
      "  [0 8 3]\n",
      "  [4 6 7]]\n",
      "\n",
      " [[0 1 2]\n",
      "  [5 8 3]\n",
      "  [4 6 7]]\n",
      "\n",
      " [[1 0 2]\n",
      "  [5 8 3]\n",
      "  [4 6 7]]\n",
      "\n",
      " [[1 2 0]\n",
      "  [5 8 3]\n",
      "  [4 6 7]]\n",
      "\n",
      " [[1 2 3]\n",
      "  [5 8 0]\n",
      "  [4 6 7]]\n",
      "\n",
      " [[1 2 3]\n",
      "  [5 0 8]\n",
      "  [4 6 7]]\n",
      "\n",
      " [[1 2 3]\n",
      "  [5 6 8]\n",
      "  [4 0 7]]\n",
      "\n",
      " [[1 2 3]\n",
      "  [5 6 8]\n",
      "  [4 7 0]]\n",
      "\n",
      " [[1 2 3]\n",
      "  [5 6 0]\n",
      "  [4 7 8]]\n",
      "\n",
      " [[1 2 3]\n",
      "  [5 0 6]\n",
      "  [4 7 8]]\n",
      "\n",
      " [[1 2 3]\n",
      "  [0 5 6]\n",
      "  [4 7 8]]\n",
      "\n",
      " [[1 2 3]\n",
      "  [4 5 6]\n",
      "  [0 7 8]]\n",
      "\n",
      " [[1 2 3]\n",
      "  [4 5 6]\n",
      "  [7 0 8]]\n",
      "\n",
      " [[1 2 3]\n",
      "  [4 5 6]\n",
      "  [7 8 0]]]\n"
     ]
    }
   ],
   "source": [
    "PUZZLE_DIM = 3\n",
    "prob = create_random_problem(PUZZLE_DIM)\n",
    "print(f\"Problem:\\n{prob}\")\n",
    "\n",
    "if PUZZLE_DIM < 2:\n",
    "    print(\"Empty problem!\")\n",
    "elif PUZZLE_DIM < 4:\n",
    "    print(\"Optimal solution!\")\n",
    "    sol = a_star(prob)\n",
    "    print(f\"Steps: {len(sol) - 1}\\nPath:\")\n",
    "    print(np.array(sol))\n",
    "else:\n",
    "    print(f\"Approximated solution{' (this mat take a while...)' if PUZZLE_DIM > 7 else ''}!\")\n",
    "    sol = greedy_best_first(prob)\n",
    "    print(f\"Steps: {len(sol) - 1}\\nPath:\")\n",
    "    print(np.array(sol))\n"
   ]
  }
 ],
 "metadata": {
  "kernelspec": {
   "display_name": "venv",
   "language": "python",
   "name": "python3"
  },
  "language_info": {
   "codemirror_mode": {
    "name": "ipython",
    "version": 3
   },
   "file_extension": ".py",
   "mimetype": "text/x-python",
   "name": "python",
   "nbconvert_exporter": "python",
   "pygments_lexer": "ipython3",
   "version": "3.10.12"
  }
 },
 "nbformat": 4,
 "nbformat_minor": 2
}
